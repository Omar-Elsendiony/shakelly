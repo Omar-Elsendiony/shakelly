{
 "cells": [
  {
   "cell_type": "markdown",
   "metadata": {},
   "source": [
    "## This module purpose is to extract the features of the words and the characters (if we want)"
   ]
  },
  {
   "cell_type": "markdown",
   "metadata": {},
   "source": [
    "#### TfIdf feature extraction"
   ]
  },
  {
   "cell_type": "code",
   "execution_count": null,
   "metadata": {},
   "outputs": [
    {
     "ename": "",
     "evalue": "",
     "output_type": "error",
     "traceback": [
      "\u001b[1;31mRunning cells with 'base' requires the ipykernel package.\n",
      "\u001b[1;31mRun the following command to install 'ipykernel' into the Python environment. \n",
      "\u001b[1;31mCommand: 'conda install -n base ipykernel --update-deps --force-reinstall'"
     ]
    }
   ],
   "source": [
    "from sklearn.feature_extraction.text import TfidfVectorizer, CountVectorizer\n",
    "import pandas as pd\n",
    "\n",
    "file_path = \"dataset/train.txt\"\n",
    "# Open the file for reading\n",
    "with open(file_path, 'r', encoding='utf-8') as file:\n",
    "    # Read the content of the file\n",
    "    file_content = file.read()\n",
    "    \n",
    "\n",
    "# Separate based on the delimiter '.'\n",
    "sentences = file_content.split('.')\n",
    "\n",
    "# Remove empty strings from the list (resulting from consecutive '.' characters)\n",
    "sentences = [sentence.strip() for sentence in sentences if sentence.strip()]\n",
    "\n",
    "\n",
    "# what is tfidf vectorizerr\n",
    "# it is a combination between tfidf CountVectorizer that calculated the count\n",
    "# and tfidf transform that normalizes the results\n",
    "vectorizer = TfidfVectorizer(encoding='utf-8')\n",
    "\n",
    "# what is fit and transform?\n",
    "# fit extracts the count of the instances of this word in this document\n",
    "# then the vector (column or row) includes then th\n",
    "# transform nomalizes the data so that the data values are between 0 and 1\n",
    "tfidf_matrix = vectorizer.fit_transform(sentences)\n",
    "tfidf_matrix_dense = tfidf_matrix.todense()\n",
    "# Get the feature names (terms) so that we can search for this word vector (word or term consecu)\n",
    "feature_names = vectorizer.get_feature_names_out()\n",
    "\n",
    "# search word\n",
    "search_word = \"10\"\n",
    "if search_word in feature_names:\n",
    "    word_index = list(feature_names).index(search_word)\n",
    "    print(tfidf_matrix[:, word_index])  # the first dim is the documents , the second is the word or term\n"
   ]
  },
  {
   "cell_type": "markdown",
   "metadata": {},
   "source": [
    "#### Word2Vec feature extraction"
   ]
  },
  {
   "cell_type": "code",
   "execution_count": 4,
   "metadata": {},
   "outputs": [],
   "source": [
    "from gensim.models import Word2Vec\n",
    "# Define and train Word2Vec model\n",
    "\n",
    "word2vec_model = Word2Vec(sentences=sentences, vector_size=100, window=5, min_count=1, workers=4)\n",
    "\n",
    "# Save the trained model (optional)\n",
    "word2vec_model.save(\"word2vec_model.model\")\n"
   ]
  },
  {
   "cell_type": "markdown",
   "metadata": {},
   "source": [
    "#### Bag of words"
   ]
  },
  {
   "cell_type": "code",
   "execution_count": 5,
   "metadata": {},
   "outputs": [],
   "source": [
    "vectorizer = CountVectorizer()\n",
    "\n",
    "# Fit and transform the training set\n",
    "X = vectorizer.fit_transform(sentences)\n",
    "\n",
    "# Get the feature names (words)\n",
    "feature_names = vectorizer.get_feature_names_out()\n",
    "\n",
    "# Convert the matrix to a dense array and display the result\n",
    "dense_array = X.toarray()"
   ]
  }
 ],
 "metadata": {
  "kernelspec": {
   "display_name": "Python 3",
   "language": "python",
   "name": "python3"
  },
  "language_info": {
   "codemirror_mode": {
    "name": "ipython",
    "version": 3
   },
   "file_extension": ".py",
   "mimetype": "text/x-python",
   "name": "python",
   "nbconvert_exporter": "python",
   "pygments_lexer": "ipython3",
   "version": "3.11.5"
  }
 },
 "nbformat": 4,
 "nbformat_minor": 2
}
