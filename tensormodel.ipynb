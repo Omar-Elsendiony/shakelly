{
 "cells": [
  {
   "cell_type": "code",
   "execution_count": null,
   "metadata": {},
   "outputs": [],
   "source": [
    "import tensorflow as tf\n",
    "from tensorflow.keras.models import Model,Sequential\n",
    "from tensorflow.keras.layers import Input,Flatten, Embedding, Bidirectional, LSTM, Dense, Concatenate, TimeDistributed"
   ]
  },
  {
   "cell_type": "code",
   "execution_count": null,
   "metadata": {},
   "outputs": [],
   "source": [
    "# Parameters\n",
    "max_sentence_length = 100  # Maximum length of sentence embeddings\n",
    "embedding_dim = 512        # Dimension of sentence embeddings\n",
    "max_char_length = 10       # Maximum length of a word in characters\n",
    "char_vocab_size = 28       # Number of unique characters\n",
    "num_diacritics = 4         # Number of possible diacritics for each character, including no diacritic\n",
    "\n",
    "# BiLSTM model\n",
    "bi_lstm_model = Sequential()\n",
    "bi_lstm_model.add(Bidirectional(LSTM(64, return_sequences=False), input_shape=(max_sentence_length, embedding_dim)))\n",
    "\n",
    "\n",
    "# RNN model\n",
    "rnn_model = Sequential()\n",
    "rnn_model.add(Input(shape=(408,)))  # Adjust the input shape based on the BiLSTM output and character input\n",
    "rnn_model.add(Dense(128, activation='relu'))\n",
    "rnn_model.add(Dense(64, activation='relu'))\n",
    "rnn_model.add(Dense(max_char_length * num_diacritics, activation='softmax'))\n",
    "rnn_model.add(tf.keras.layers.Reshape((max_char_length, num_diacritics)))\n",
    "\n",
    "\n",
    "# Sentence input\n",
    "sentence_input = Input(shape=(max_sentence_length, embedding_dim))\n",
    "\n",
    "# Character input\n",
    "char_input = Input(shape=(max_char_length, char_vocab_size))\n",
    "\n",
    "# Get BiLSTM output\n",
    "bi_lstm_output = bi_lstm_model(sentence_input)\n",
    "\n",
    "# Flatten the character input\n",
    "flat_char_input = Flatten()(char_input)\n",
    "\n",
    "# Concatenate BiLSTM output and flattened character input\n",
    "combined_input = Concatenate()([bi_lstm_output, flat_char_input])\n",
    "\n",
    "# Get the final diacritics predictions\n",
    "diacritics_output = rnn_model(combined_input)\n",
    "\n",
    "# Final model\n",
    "final_model = Model(inputs=[sentence_input, char_input], outputs=diacritics_output)\n",
    "\n",
    "# Compile the model\n",
    "final_model.compile(optimizer='adam', loss='categorical_crossentropy', metrics=['accuracy'])\n",
    "\n",
    "# Model summary\n",
    "final_model.summary()\n"
   ]
  }
 ],
 "metadata": {
  "language_info": {
   "name": "python"
  }
 },
 "nbformat": 4,
 "nbformat_minor": 2
}
