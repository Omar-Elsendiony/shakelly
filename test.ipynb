{
 "cells": [
  {
   "cell_type": "code",
   "execution_count": 13,
   "metadata": {},
   "outputs": [],
   "source": [
    "from utils import get_tashkel,get_harakat,combine_text_with_harakat"
   ]
  },
  {
   "cell_type": "code",
   "execution_count": 14,
   "metadata": {},
   "outputs": [
    {
     "name": "stdout",
     "output_type": "stream",
     "text": [
      "ال\n"
     ]
    }
   ],
   "source": [
    "print(combine_text_with_harakat(\"ال\",['_',\"\"]))"
   ]
  },
  {
   "cell_type": "code",
   "execution_count": 15,
   "metadata": {},
   "outputs": [
    {
     "data": {
      "text/plain": [
       "'فَائِدَةٌ : قَالَ بَعْضُهُمْ : يُؤْخَذُ مِنْ شَرْطِ تَمَامِ الْمِلْكِ عَدَمُ زَكَاةِ حُلِيِّ الْكَعْبَةِ وَالْمَسَاجِدِ مِنْ قَنَادِيلَ وَعَلَائِقَ وَصَفَائِحِ اَبْوَابٍ .وَقَوْلُهُ ( لَزِمَتْهُ لِمَا قُلْنَا ) يُرِيدُ قَوْلَهُ ؛ لِاَنَّ الْجَمْعَ بَيْنَهُمَا مَشْرُوعٌ فِي حَقِّ الْافَاقِيِّ .( قَوْلُهُ نَعَمْ انْ طَلَّقَهَا قَبْلَ فَجْرِهِ ) وَمِثْلُهُ مَعَ الْفَجْرِ '"
      ]
     },
     "execution_count": 15,
     "metadata": {},
     "output_type": "execute_result"
    }
   ],
   "source": [
    "import re\n",
    "\n",
    "def clean_text(text):\n",
    "    # Remove HTML tags\n",
    "    text = re.sub(r'<[^>]+>', '', text)\n",
    "\n",
    "    # Normalize Arabic characters\n",
    "    text = re.sub(r'[أإآ]', 'ا', text)\n",
    "\n",
    "    # Add other cleaning steps as needed\n",
    "\n",
    "    return text\n",
    "clean_text(\"فَائِدَةٌ : قَالَ بَعْضُهُمْ : يُؤْخَذُ مِنْ شَرْطِ تَمَامِ الْمِلْكِ عَدَمُ زَكَاةِ حُلِيِّ الْكَعْبَةِ وَالْمَسَاجِدِ مِنْ قَنَادِيلَ وَعَلَائِقَ وَصَفَائِحِ أَبْوَابٍ .وَقَوْلُهُ ( لَزِمَتْهُ لِمَا قُلْنَا ) يُرِيدُ قَوْلَهُ ؛ لِأَنَّ الْجَمْعَ بَيْنَهُمَا مَشْرُوعٌ فِي حَقِّ الْآفَاقِيِّ .( قَوْلُهُ نَعَمْ إنْ طَلَّقَهَا قَبْلَ فَجْرِهِ ) وَمِثْلُهُ مَعَ الْفَجْرِ \")"
   ]
  }
 ],
 "metadata": {
  "kernelspec": {
   "display_name": "myenv",
   "language": "python",
   "name": "python3"
  },
  "language_info": {
   "codemirror_mode": {
    "name": "ipython",
    "version": 3
   },
   "file_extension": ".py",
   "mimetype": "text/x-python",
   "name": "python",
   "nbconvert_exporter": "python",
   "pygments_lexer": "ipython3",
   "version": "3.10.10"
  }
 },
 "nbformat": 4,
 "nbformat_minor": 2
}
