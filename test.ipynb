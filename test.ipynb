{
 "cells": [
  {
   "cell_type": "code",
   "execution_count": 1,
   "metadata": {},
   "outputs": [
    {
     "name": "stdout",
     "output_type": "stream",
     "text": [
      "{'ز': 0, 'آ': 1, 'أ': 2, 'ي': 3, 'ئ': 4, 'خ': 5, 'م': 6, 'ل': 7, 'د': 8, 'و': 9, 'ح': 10, 'ى': 11, 'ب': 12, 'إ': 13, 'ض': 14, 'ن': 15, 'س': 16, 'ك': 17, 'ط': 18, 'ص': 19, 'ا': 20, 'ظ': 21, 'ء': 22, 'ج': 23, 'ف': 24, 'ه': 25, 'ت': 26, 'ذ': 27, 'ر': 28, 'ش': 29, 'ؤ': 30, 'غ': 31, 'ع': 32, 'ة': 33, 'ق': 34, 'ث': 35}\n",
      "length=\n",
      "36\n"
     ]
    },
    {
     "name": "stderr",
     "output_type": "stream",
     "text": [
      "[nltk_data] Downloading package punkt to\n",
      "[nltk_data]     C:\\Users\\DELL\\AppData\\Roaming\\nltk_data...\n",
      "[nltk_data]   Package punkt is already up-to-date!\n"
     ]
    }
   ],
   "source": [
    "from utils import get_tashkel,get_harakat,combine_text_with_harakat\n"
   ]
  },
  {
   "cell_type": "code",
   "execution_count": 2,
   "metadata": {},
   "outputs": [
    {
     "name": "stdout",
     "output_type": "stream",
     "text": [
      "ال\n"
     ]
    }
   ],
   "source": [
    "print(combine_text_with_harakat(\"ال\",['_',\"\"]))"
   ]
  },
  {
   "cell_type": "code",
   "execution_count": 3,
   "metadata": {},
   "outputs": [
    {
     "data": {
      "text/plain": [
       "'فَائِدَةٌ : قَالَ بَعْضُهُمْ : يُؤْخَذُ مِنْ شَرْطِ تَمَامِ الْمِلْكِ عَدَمُ زَكَاةِ حُلِيِّ الْكَعْبَةِ وَالْمَسَاجِدِ مِنْ قَنَادِيلَ وَعَلَائِقَ وَصَفَائِحِ اَبْوَابٍ .وَقَوْلُهُ ( لَزِمَتْهُ لِمَا قُلْنَا ) يُرِيدُ قَوْلَهُ ؛ لِاَنَّ الْجَمْعَ بَيْنَهُمَا مَشْرُوعٌ فِي حَقِّ الْافَاقِيِّ .( قَوْلُهُ نَعَمْ انْ طَلَّقَهَا قَبْلَ فَجْرِهِ ) وَمِثْلُهُ مَعَ الْفَجْرِ '"
      ]
     },
     "execution_count": 3,
     "metadata": {},
     "output_type": "execute_result"
    }
   ],
   "source": [
    "import re\n",
    "\n",
    "def clean_text(text):\n",
    "    # Remove HTML tags\n",
    "    text = re.sub(r'<[^>]+>', '', text)\n",
    "\n",
    "    # Normalize Arabic characters\n",
    "    text = re.sub(r'[أإآ]', 'ا', text)\n",
    "\n",
    "    # Add other cleaning steps as needed\n",
    "\n",
    "    return text\n",
    "clean_text(\"فَائِدَةٌ : قَالَ بَعْضُهُمْ : يُؤْخَذُ مِنْ شَرْطِ تَمَامِ الْمِلْكِ عَدَمُ زَكَاةِ حُلِيِّ الْكَعْبَةِ وَالْمَسَاجِدِ مِنْ قَنَادِيلَ وَعَلَائِقَ وَصَفَائِحِ أَبْوَابٍ .وَقَوْلُهُ ( لَزِمَتْهُ لِمَا قُلْنَا ) يُرِيدُ قَوْلَهُ ؛ لِأَنَّ الْجَمْعَ بَيْنَهُمَا مَشْرُوعٌ فِي حَقِّ الْآفَاقِيِّ .( قَوْلُهُ نَعَمْ إنْ طَلَّقَهَا قَبْلَ فَجْرِهِ ) وَمِثْلُهُ مَعَ الْفَجْرِ \")"
   ]
  },
  {
   "cell_type": "code",
   "execution_count": 75,
   "metadata": {},
   "outputs": [
    {
     "name": "stdout",
     "output_type": "stream",
     "text": [
      "{'ُ', 'ٍ', 'ْ', 'ِ', 'ً', 'ٌ', 'َ', 'ّ'}\n",
      "['ليس للوكيل بالقبض أن يبرأ المدين أو يهب الدين له أو يأخذ رهنا من المدين في مقابل الدين أو يقبل إحالته على شخص آخر لكن له أن يأخذ كفيلا لكن ليس له أن يأخذ كفيلا بشرط براءة الأصيل انظر المادة الأنقروي ', ' الطحطاوي وصرة الفتاوى ', ' البحر ', '']\n"
     ]
    }
   ],
   "source": [
    "# with open(data) as f:\n",
    "#         lines = f.readlines()\n",
    "from utils import *\n",
    "import re\n",
    "harakat= load_binary('diacritics','./')\n",
    "print(harakat)\n",
    "text=\"ليس للوكيل بالقبض أن يبرأ المدين أو يهب الدين له أو يأخذ رهنا من المدين في مقابل الدين أو يقبل إحالته على شخص آخر لكن له أن يأخذ كفيلا لكن ليس له أن يأخذ كفيلا بشرط براءة الأصيل انظر المادة ( 648 ) ( الأنقروي ، الطحطاوي وصرة الفتاوى ، البحر ) .\"\n",
    "text2=\"\"\"\n",
    "لَكِنْ قَالَ الْمَاوَرْدِيُّ وَالرُّويَانِيُّ تَفْرِيعًا عَلَى ذَلِكَ : يُعَلِّمُهُ الْأَغْلَبَ مِنْ قِرَاءَةِ الْبَلَدِ كَمَا لَوْ أَصْدَقَهَا دَرَاهِمَ ، فَإِنَّهُ يَتَعَيَّنُ غَالِبُ دَرَاهِمِ الْبَلَدِ : أَيْ فَإِنْ لَمْ( 9 / 406 )\n",
    "( وَلَا يَجُوزُ أَنْ يَصُومَ عَنْ بَعْضِ الْجَزَاءِ ، وَيُطْعِمَ عَنْ بَعْضٍ ) ، نَصَّ عَلَيْهِ ، لِأَنَّهَا كَفَّارَةٌ وَاحِدَةٌ ، فَلَمْ يَجُزْ فِيهَا كَسَائِرِ الْكَفَّارَاتِ .( 6 / 189 )\n",
    "لَوْ أَخَذَ ثَلَاثَةٌ أَرْضًا بِالنِّصْفِ لِيَزْرَعُوهَا بِالشَّرِكَةِ فَغَابَ أَحَدُهُمْ وَزَرَعَ اثْنَانِ بَعْضَ الْأَرْضِ بُرًّا فَحَضَرَ الثَّالِثُ ، وَزَرَعَ بَعْضَ الْأَرْضِ شَعِيرًا فَلَوْ كَانَ ذَلِكَ بِإِذْنِ كُلِّ وَاحِدٍ مِنْهُمْ فَالْبُرُّ بَيْنَهُمْ ، وَيَرْجِعُ رَبُّ الْبُرِّ بِثُلُثِ الْبُرِّ عَلَى الثَّالِثِ ، وَالشَّعِيرُ بَيْنَهُمْ أَيْضًا أَوْ يَرْجِعُ هُوَ أَيْضًا عَلَيْهِمَا بِثُلُثَيْ الشَّعِيرِ الَّذِي بَذَرَ بَعْدَ دَفْعِ نَصِيبِ رَبِّ الْأَرْضِ وَلَوْ فَعَلُوا بِلَا إذْنٍ فَالْبُرُّ ثُلُثُهُ لِرَبِّ الْأَرْضِ وَثُلُثَاهُ لَهُمَا ، وَيَغْرَمَانِ نُقْصَانَ ثُلُثِ الْأَرْضِ ، وَأَمَّا رَبُّ الشَّعِيرِ فَخَمْسَةُ أَسْدَاسِهِ لَهُ ، وَلِرَبِّ الْأَرْضِ سُدُسُهُ لِأَنَّ ثُلُثَيْ الشَّعِيرِ زُرِعَ غَصْبًا فَهُوَ لَهُ ، وَثُلُثُهُ زُرِعَ بِحَقٍّ ، وَعَلَيْهِ نُقْصَانُ الْأَرْضِ فِي قَدْرِ ثُلُثَيْ ذَلِكَ ، كَذَا فِي الْفُصُولَيْنِ مِنْ أَحْكَامِ الْمُزَارَعَةِ .( 6 / 7 \n",
    "\"\"\"\n",
    "\n",
    "def cleanText(data):\n",
    "    punctuations=[\"،\",\"؛\",\"؟\",\".\",\",\",\"!\",\":\",\" \"]\n",
    "    for char in data:\n",
    "        #check if char is not in arabic alphabet or harakat\n",
    "        if char not in (tuple(list(harakat)+list(arabic_alphabet.keys())+punctuations)):\n",
    "            data = data.replace(char,'')\n",
    "    # split text into sentences using regex\n",
    "    \n",
    "    data = re.sub('  +',' ', data)\n",
    "    \n",
    "    data = re.split(r'[،؛؟.,!:]+', data)\n",
    "    \n",
    "    return data\n",
    "cleandetext=cleanText(text)\n",
    "print(cleandetext)\n",
    "\n",
    "    \n",
    "    "
   ]
  },
  {
   "cell_type": "code",
   "execution_count": 59,
   "metadata": {},
   "outputs": [
    {
     "name": "stdout",
     "output_type": "stream",
     "text": [
      "d ert\n"
     ]
    }
   ],
   "source": [
    "text=\"d ert \"\n",
    "print(text.strip())"
   ]
  },
  {
   "cell_type": "code",
   "execution_count": 76,
   "metadata": {},
   "outputs": [
    {
     "name": "stdout",
     "output_type": "stream",
     "text": [
      "182\n",
      "[['ليس', 'للوكيل', 'بالقبض', 'أن', 'يبرأ', 'المدين', 'أو', 'يهب', 'الدين', 'له', 'أو', 'يأخذ', 'رهنا', 'من', 'المدين', 'في', 'مقابل', 'الدين', 'أو', 'يقبل', 'إحالته', 'على', 'شخص', 'آخر', 'لكن', 'له', 'أن', 'يأخذ', 'كفيلا', 'لكن', 'ليس', 'له', 'أن', 'يأخذ', 'كفيلا', 'بشرط', 'براءة', 'الأصيل', 'انظر', 'المادة', 'الأنقروي'], ['الطحطاوي', 'وصرة', 'الفتاوى'], ['البحر']]\n",
      "---\n",
      "[[['_', '_', '_'], ['_', '_', '_', '_', '_', '_'], ['_', '_', '_', '_', '_', '_'], ['_', '_'], ['_', '_', '_', '_'], ['_', '_', '_', '_', '_', '_'], ['_', '_'], ['_', '_', '_'], ['_', '_', '_', '_', '_'], ['_', '_'], ['_', '_'], ['_', '_', '_', '_'], ['_', '_', '_', '_'], ['_', '_'], ['_', '_', '_', '_', '_', '_'], ['_', '_'], ['_', '_', '_', '_', '_'], ['_', '_', '_', '_', '_'], ['_', '_'], ['_', '_', '_', '_'], ['_', '_', '_', '_', '_', '_'], ['_', '_', '_'], ['_', '_', '_'], ['_', '_', '_'], ['_', '_', '_'], ['_', '_'], ['_', '_'], ['_', '_', '_', '_'], ['_', '_', '_', '_', '_'], ['_', '_', '_'], ['_', '_', '_'], ['_', '_'], ['_', '_'], ['_', '_', '_', '_'], ['_', '_', '_', '_', '_'], ['_', '_', '_', '_'], ['_', '_', '_', '_', '_'], ['_', '_', '_', '_', '_', '_'], ['_', '_', '_', '_'], ['_', '_', '_', '_', '_', '_'], ['_', '_', '_', '_', '_', '_', '_', '_']], [['_', '_', '_', '_', '_', '_', '_', '_'], ['_', '_', '_', '_'], ['_', '_', '_', '_', '_', '_', '_']], [['_', '_', '_', '_', '_']]]\n"
     ]
    }
   ],
   "source": [
    "def get_sentences(sentences):\n",
    "    words_per_sentence = []\n",
    "    tashkeel_per_sentence = []\n",
    "    for sentence in sentences:\n",
    "        sentence = sentence.strip()\n",
    "        if sentence == '': continue # new line may be followed by full stop\n",
    "        sentence = word_tokenize(sentence)\n",
    "        words_per_sentence.append(sentence)\n",
    "    \n",
    "    tashkeel_per_sentence = [[None for _ in w ]for w in words_per_sentence]\n",
    "    for i, x in enumerate(words_per_sentence):\n",
    "        for j, y in enumerate(x):\n",
    "            tashkeel = get_tashkel(y)\n",
    "            words_per_sentence[i][j] = clear_tashkel(y)\n",
    "            tashkeel_per_sentence[i][j] = tashkeel\n",
    "    return words_per_sentence, tashkeel_per_sentence\n",
    "\n",
    "sent=[\"عَُمرً\"]\n",
    "k,l=get_sentences(cleandetext)\n",
    "#loop on k and get number of charachters\n",
    "length=0\n",
    "for i in range(len(k)):\n",
    "    for j in range(len(k[i])):\n",
    "        length+=len(k[i][j])\n",
    "print(length)\n",
    "print(k)\n",
    "print(\"---\")\n",
    "print(l)"
   ]
  },
  {
   "cell_type": "code",
   "execution_count": null,
   "metadata": {},
   "outputs": [],
   "source": [
    "def preprocessing():\n",
    "    "
   ]
  }
 ],
 "metadata": {
  "kernelspec": {
   "display_name": "myenv",
   "language": "python",
   "name": "python3"
  },
  "language_info": {
   "codemirror_mode": {
    "name": "ipython",
    "version": 3
   },
   "file_extension": ".py",
   "mimetype": "text/x-python",
   "name": "python",
   "nbconvert_exporter": "python",
   "pygments_lexer": "ipython3",
   "version": "3.11.6"
  }
 },
 "nbformat": 4,
 "nbformat_minor": 2
}
